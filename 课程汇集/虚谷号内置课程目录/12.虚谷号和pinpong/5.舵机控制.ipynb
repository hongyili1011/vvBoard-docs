{
 "cells": [
  {
   "cell_type": "markdown",
   "metadata": {},
   "source": [
    "# 虚谷号与pinpong之舵机控制"
   ]
  },
  {
   "cell_type": "markdown",
   "metadata": {},
   "source": [
    "    描述：控制舵机旋转的角度。\n",
    "    \n",
    "    实现：调用pinpong库中的Servo(pin_num)函数，pin_num为引脚标号,可以直接传入虚谷板上的引脚编号,例如 D3 或者 A5,也可以直接传入13或者 19 这样的数字。还需要调用Servo.write_angle(value)函数，让舵机转动到指定角度,Value 指角度。每种舵机的最大转动角度不一样,需要参考舵机说明书。"
   ]
  },
  {
   "cell_type": "markdown",
   "metadata": {},
   "source": [
    "### 准备工作\n",
    "\n",
    "虚谷号的7号口（即D7）接上一个舵机。"
   ]
  },
  {
   "cell_type": "markdown",
   "metadata": {},
   "source": [
    "### 实验步骤\n",
    "1.导入pinpong库"
   ]
  },
  {
   "cell_type": "code",
   "execution_count": 1,
   "metadata": {},
   "outputs": [],
   "source": [
    "from pinpong.board import Board,Pin,Servo #导入Servo库"
   ]
  },
  {
   "cell_type": "markdown",
   "metadata": {},
   "source": [
    "2.初始化开发板"
   ]
  },
  {
   "cell_type": "code",
   "execution_count": 2,
   "metadata": {},
   "outputs": [
    {
     "name": "stdout",
     "output_type": "stream",
     "text": [
      "\n",
      "  __________________________________________\n",
      " |    ____  _       ____                    |\n",
      " |   / __ \\(_)___  / __ \\____  ____  ____ _ |\n",
      " |  / /_/ / / __ \\/ /_/ / __ \\/ __ \\/ __ `/ |\n",
      " | / ____/ / / / / ____/ /_/ / / / / /_/ /  |\n",
      " |/_/   /_/_/ /_/_/    \\____/_/ /_/\\__, /   |\n",
      " |   v0.3.3  Designed by DFRobot  /____/    |\n",
      " |__________________________________________|\n",
      " \n",
      "[01] Python3.5.2 Linux-4.4.159-aarch64-with-Ubuntu-16.04-xenial Board: UNO\n",
      "[10] Opening /dev/ttyS1\n",
      "[15] Close /dev/ttyS1\n",
      "[32] Firmata ID: 2.6\n",
      "[10] Opening /dev/ttyS1...\n",
      "[20] Waiting 4 seconds(arduino_wait) for Arduino devices to reset...\n",
      "[22] Arduino compatible device found and connected to /dev/ttyS1\n",
      "[30] Retrieving Arduino Firmware ID...\n",
      "[32] Arduino Firmware ID: 2.6 DFRobot firmata\n",
      "[40] Retrieving analog map...\n",
      "[42] Auto-discovery complete. Found 20 Digital Pins and 6 Analog Pins\n",
      "------------------------------\n",
      "All right. PinPong go...\n",
      "------------------------------\n",
      "\n"
     ]
    },
    {
     "data": {
      "text/plain": [
       "<pinpong.board.Board at 0x7fb05819b0>"
      ]
     },
     "execution_count": 2,
     "metadata": {},
     "output_type": "execute_result"
    }
   ],
   "source": [
    "Board(\"xugu\").begin() "
   ]
  },
  {
   "cell_type": "markdown",
   "metadata": {},
   "source": [
    "3.初始化引脚"
   ]
  },
  {
   "cell_type": "code",
   "execution_count": 3,
   "metadata": {},
   "outputs": [],
   "source": [
    "s1 = Servo(Pin(Pin.D7))"
   ]
  },
  {
   "cell_type": "markdown",
   "metadata": {},
   "source": [
    "4.控制舵机角度\n",
    "\n",
    "设置值为150,舵机旋转150°"
   ]
  },
  {
   "cell_type": "code",
   "execution_count": 4,
   "metadata": {},
   "outputs": [],
   "source": [
    "s1.write_angle(150)"
   ]
  },
  {
   "cell_type": "markdown",
   "metadata": {},
   "source": [
    "### 范例：输入数字控制舵机旋转\n",
    "\n",
    "使用pinpong库中Servo类，控制D7引脚上的舵机旋转。\n",
    "\n",
    "**注：**如果需要运行下面的程序或者关闭窗口，请先点击“服务”，执行“重启 & 清空输出”，再开始执行，以避免串口冲突。"
   ]
  },
  {
   "cell_type": "code",
   "execution_count": null,
   "metadata": {},
   "outputs": [],
   "source": [
    "from pinpong.board import Board,Pin,Servo #导入Servo库\n",
    "Board(\"xugu\").begin() \n",
    "s1 = Servo(Pin(Pin.D7)) #初始化舵机引脚\n",
    "while True:\n",
    "    angle=input(\"请输入你要控制的舵机角度\")\n",
    "    if not int(angle) in range(180):\n",
    "        print(\"请正确输入数值\")\n",
    "    else:\n",
    "        s1.write_angle(angle)\n",
    "        print(\"操作完成！\")"
   ]
  },
  {
   "cell_type": "markdown",
   "metadata": {},
   "source": [
    "**注：**要停止循环，请点击“中断”服务，即黑色正方形标志。"
   ]
  }
 ],
 "metadata": {
  "kernelspec": {
   "display_name": "Python 3",
   "language": "python",
   "name": "python3"
  },
  "language_info": {
   "codemirror_mode": {
    "name": "ipython",
    "version": 3
   },
   "file_extension": ".py",
   "mimetype": "text/x-python",
   "name": "python",
   "nbconvert_exporter": "python",
   "pygments_lexer": "ipython3",
   "version": "3.5.2"
  }
 },
 "nbformat": 4,
 "nbformat_minor": 4
}
